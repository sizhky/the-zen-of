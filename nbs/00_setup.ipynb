{
 "cells": [
  {
   "cell_type": "markdown",
   "metadata": {},
   "source": [
    "# Setup"
   ]
  },
  {
   "cell_type": "code",
   "execution_count": null,
   "metadata": {},
   "outputs": [],
   "source": [
    "#| default_exp setup"
   ]
  },
  {
   "cell_type": "code",
   "execution_count": null,
   "metadata": {},
   "outputs": [],
   "source": [
    "#| export\n",
    "from typer import Typer, Context"
   ]
  },
  {
   "cell_type": "code",
   "execution_count": null,
   "metadata": {},
   "outputs": [],
   "source": [
    "#| export\n",
    "cli = Typer()\n",
    "\n",
    "cli2 = Typer()\n",
    "    \n",
    "@cli2.callback()\n",
    "def default(ctx: Context):\n",
    "    ...\n",
    "\n",
    "@cli2.command()\n",
    "def of(lang):\n",
    "    funcs = {c.__dict__['callback'].__name__:c.__dict__['callback'] for c in cli.registered_commands}\n",
    "    return funcs[lang]()\n",
    "\n",
    "@cli2.command()\n",
    "def available():\n",
    "    funcs = {c.__dict__['callback'].__name__:c.__dict__['callback'] for c in cli.registered_commands}\n",
    "    print('-'+'\\n-'.join(list(funcs.keys())))"
   ]
  }
 ],
 "metadata": {
  "language_info": {
   "name": "python"
  }
 },
 "nbformat": 4,
 "nbformat_minor": 2
}
