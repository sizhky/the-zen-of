{
 "cells": [
  {
   "cell_type": "markdown",
   "metadata": {},
   "source": [
    "# Zen of Javascript"
   ]
  },
  {
   "cell_type": "code",
   "execution_count": null,
   "metadata": {},
   "outputs": [],
   "source": [
    "#| default_exp cpp"
   ]
  },
  {
   "cell_type": "code",
   "execution_count": null,
   "metadata": {},
   "outputs": [],
   "source": [
    "#| hide\n",
    "from nbdev.showdoc import *"
   ]
  },
  {
   "cell_type": "code",
   "execution_count": null,
   "metadata": {},
   "outputs": [],
   "source": [
    "#| export\n",
    "from the_zen_of.setup import cli"
   ]
  },
  {
   "cell_type": "code",
   "execution_count": null,
   "metadata": {},
   "outputs": [],
   "source": [
    "#| export\n",
    "@cli.command()\n",
    "def cpp():\n",
    "    info = '''Zen of CPP by ISOCPP\n",
    "P.1: Express ideas directly in code\n",
    "P.2: Write in ISO Standard C++\n",
    "P.3: Express intent\n",
    "P.4: Ideally, a program should be statically type safe\n",
    "P.5: Prefer compile-time checking to run-time checking\n",
    "P.6: What cannot be checked at compile time should be checkable at run time\n",
    "P.7: Catch run-time errors early\n",
    "P.8: Don't leak any resources\n",
    "P.9: Don't waste time or space\n",
    "P.10: Prefer immutable data to mutable data\n",
    "P.11: Encapsulate messy constructs, rather than spreading through the code\n",
    "P.12: Use supporting tools as appropriate\n",
    "P.13: Use support libraries as appropriate\n",
    "\n",
    "https://github.com/isocpp/CppCoreGuidelines/blob/master/CppCoreGuidelines.md#S-philosophy\n",
    "'''\n",
    "    print(info)"
   ]
  },
  {
   "cell_type": "code",
   "execution_count": null,
   "metadata": {},
   "outputs": [],
   "source": [
    "#| hide\n",
    "import nbdev; nbdev.nbdev_export()"
   ]
  }
 ],
 "metadata": {
  "kernelspec": {
   "display_name": "python3",
   "language": "python",
   "name": "python3"
  }
 },
 "nbformat": 4,
 "nbformat_minor": 4
}
